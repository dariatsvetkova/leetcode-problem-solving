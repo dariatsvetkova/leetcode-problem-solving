{
 "cells": [
  {
   "cell_type": "markdown",
   "metadata": {},
   "source": [
    "# 206. Reverse Linked List\n",
    "\n",
    "[link](https://leetcode.com/problems/reverse-linked-list/description/)"
   ]
  },
  {
   "cell_type": "markdown",
   "metadata": {},
   "source": [
    "## Understand the task\n",
    "\n",
    "We are given a singly-linked list, which means that each node only knows what the next node in the chain is:\n"
   ]
  },
  {
   "cell_type": "code",
   "execution_count": 1,
   "metadata": {},
   "outputs": [],
   "source": [
    "class ListNode(object):\n",
    "    def __init__(self, val=0, next=None):\n",
    "        self.val = val\n",
    "        self.next = next"
   ]
  },
  {
   "cell_type": "markdown",
   "metadata": {},
   "source": [
    "Each node has a value, but the values are not guaranteed to be unique. So, we can only use pointers to tell the nodes apart.\n",
    "\n",
    "The task states that the algorithm can be implemented iteratively or recursively. We can try to implement both and see which implementation has better performance.\n",
    "\n",
    "Lastly, we are asked to return the head of the new list, so we will need a special pointer for that."
   ]
  },
  {
   "cell_type": "markdown",
   "metadata": {},
   "source": [
    "## Brute-force solution\n",
    "\n",
    "To reverse a list, we need to visit every node in the list, create a copy of it and append it to the new list, which we will return at the end.\n",
    "\n",
    "The complicated part is that we have a singly-linked list, so we can't go back to previous nodes, nor can we insert nodes *before* the node we are currently at. This means that we have to get to the end of the original list first, before we start appending nodes to the new list.\n",
    "\n",
    "Using recursion seems like a natural solution for this problem: we can chain function calls in a way where the last node is returned first, then the second-to-last node is appended to it, then the third-to last, an so on:"
   ]
  },
  {
   "cell_type": "code",
   "execution_count": 2,
   "metadata": {},
   "outputs": [],
   "source": [
    "# newList = append(node N, append(node N - 1, ..., append(node 1)))"
   ]
  },
  {
   "cell_type": "markdown",
   "metadata": {},
   "source": [
    "The base cases for the recursive algorithm are:\n",
    "\n",
    "* An empty list\n",
    "* A node with no next node connected to it\n",
    "\n",
    "The recursive case is when the current node has a `next`.\n",
    "\n",
    "Now we can start implementing the algorithm:"
   ]
  },
  {
   "cell_type": "code",
   "execution_count": 3,
   "metadata": {},
   "outputs": [],
   "source": [
    "class Solution0(object):\n",
    "    def reverseList(self, head):\n",
    "        \"\"\"\n",
    "        :type head: ListNode\n",
    "        :rtype: ListNode\n",
    "        \"\"\"\n",
    "        # Base cases\n",
    "        if head == None or head.next == None:\n",
    "            return head\n",
    "        \n",
    "        # Recursive case\n",
    "        else:\n",
    "            rest = self.reverseList(head.next)\n",
    "            rest.next = head\n",
    "            head.next = None\n",
    "            return rest"
   ]
  },
  {
   "cell_type": "markdown",
   "metadata": {},
   "source": [
    "When we run this, it works for test cases with 0 and 2 nodes, but for a list with 5 nodes, we only get the first and the last nodes in reversed order; the rest of the nodes are lost:\n",
    "\n",
    "> Input\n",
    ">\n",
    "> head = [1,2,3,4,5]\n",
    ">\n",
    "> Output\n",
    ">\n",
    "> [5,1]\n",
    ">\n",
    "> Expected\n",
    ">\n",
    "> [5,4,3,2,1]\n",
    "\n",
    "This means that we lost pointers to the remaining nodes - most likely when we attached `head` to `rest`.\n",
    "\n",
    "To fix this, we can use two separate pointers: one to the head of the reversed list, which we will return at the end, the other - to the end, where we want to attach `head`. To keep the reference to the current pointer, we can either create a wrapper for the recursive function, or add another argument to the function, or create an instance variable for the pointer. We will start with an instance variable and try other approaches later, if necessary."
   ]
  },
  {
   "cell_type": "code",
   "execution_count": null,
   "metadata": {},
   "outputs": [],
   "source": [
    "class Solution1(object):\n",
    "    def __init__(self):\n",
    "        self.current = None\n",
    "\n",
    "    def reverseList(self, head):\n",
    "        \"\"\"\n",
    "        :type head: ListNode\n",
    "        :rtype: ListNode\n",
    "        \"\"\"\n",
    "        # Base cases\n",
    "        if head == None or head.next == None:\n",
    "            self.current = head\n",
    "            return head\n",
    "        \n",
    "        # Recursive case\n",
    "        else:\n",
    "            rest = self.reverseList(head.next)\n",
    "            head.next = None\n",
    "            self.current.next = head\n",
    "            self.current = head\n",
    "            return rest"
   ]
  },
  {
   "cell_type": "markdown",
   "metadata": {},
   "source": [
    "We got a working solution. Now we can look at the performance:\n",
    "\n",
    "> **Runtime**\n",
    ">\n",
    "> 16ms\n",
    ">\n",
    "> Beats 74.49% of users with Python\n",
    ">\n",
    "> **Memory**\n",
    ">\n",
    "> 16.81MB\n",
    ">\n",
    "> Beats 10.69% of users with Python\n",
    ">"
   ]
  },
  {
   "cell_type": "markdown",
   "metadata": {},
   "source": [
    "## Optimizing for space\n",
    "\n",
    "Our algorithm takes up a lot of memory space. This can be caused by the recursive calls that take up stack memory space; it may also be caused by the instance variable.\n",
    "\n",
    "We will try to refactor the instance variable first by using a wrapper function. The caveat in this case is that the recursive function will have to pass both pointers (to the head of the reversed list and to its current node) through all the function calls, which may be counterproductive to reducing memory use."
   ]
  },
  {
   "cell_type": "code",
   "execution_count": null,
   "metadata": {},
   "outputs": [],
   "source": [
    "class Solution2(object):\n",
    "    def reverseList(self, head):\n",
    "        \"\"\"\n",
    "        :type head: ListNode\n",
    "        :rtype: ListNode\n",
    "        \"\"\"\n",
    "        (result, current) = self.reverseRest(head)\n",
    "        return result\n",
    "\n",
    "    def reverseRest(self, head, current = None):\n",
    "        # Base cases\n",
    "        if head == None or head.next == None:\n",
    "            current = head\n",
    "            return (head, current)\n",
    "        \n",
    "        # Recursive case\n",
    "        else:\n",
    "            (rest, newCurrent) = self.reverseRest(head.next, current)\n",
    "            head.next = None\n",
    "            newCurrent.next = head\n",
    "            newCurrent = head\n",
    "            return (rest, newCurrent)\n"
   ]
  },
  {
   "cell_type": "markdown",
   "metadata": {},
   "source": [
    "When we run this code, it confirms that the memory use is actually worse with this approach:\n",
    "\n",
    "> **Runtime**\n",
    ">\n",
    "> 15ms\n",
    ">\n",
    "> Beats 79.56% of users with Python\n",
    ">\n",
    "> **Memory**\n",
    ">\n",
    "> 18.20MB\n",
    ">\n",
    "> Beats 6.44% of users with Python\n",
    "\n",
    "So we can go back to using the instance variable and work on optimizing the stack memory use instead."
   ]
  },
  {
   "cell_type": "markdown",
   "metadata": {},
   "source": [
    "To do that, we will try converting our recursive solution into an iterative one, as is suggested in the task.\n",
    "\n",
    "In the iterative solution, we will be stepping through the list without being able to get return values from consequent iterations. To keep the algorithm space-efficient, we don't want to go through the list more than once. This means that we will have to copy the current head node at every step and insert it at the *start* of the new list, like so:"
   ]
  },
  {
   "cell_type": "code",
   "execution_count": null,
   "metadata": {},
   "outputs": [],
   "source": [
    "# reversedList = append(node N, node N - 1)"
   ]
  },
  {
   "cell_type": "code",
   "execution_count": null,
   "metadata": {},
   "outputs": [],
   "source": [
    "class Solution3(object):\n",
    "    def reverseList(self, head):\n",
    "        \"\"\"\n",
    "        :type head: ListNode\n",
    "        :rtype: ListNode\n",
    "        \"\"\"\n",
    "        # Trivial cases\n",
    "        if head == None or head.next == None:\n",
    "            return head\n",
    "        \n",
    "        # Iterative case\n",
    "        else:\n",
    "            reversed = None\n",
    "\n",
    "            while head is not None:\n",
    "                if reversed is None:\n",
    "                    reversed = ListNode(head.val)  # 1\n",
    "                else:\n",
    "                    newReversed = ListNode(head.val, reversed)   # 2 - 1\n",
    "                    reversed = newReversed # 2 - 1\n",
    "\n",
    "                head = head.next\n",
    "\n",
    "            return reversed"
   ]
  },
  {
   "cell_type": "markdown",
   "metadata": {},
   "source": [
    "This solution has an even better runtime, but memory use is still pretty high:\n",
    "\n",
    ">**Runtime**\n",
    ">\n",
    ">8ms\n",
    ">\n",
    ">Beats 98.39% of users with Python\n",
    ">\n",
    ">**Memory**\n",
    ">\n",
    ">15.20MB\n",
    ">\n",
    ">Beats 16.80% of users with Python\n",
    ">"
   ]
  },
  {
   "cell_type": "markdown",
   "metadata": {},
   "source": [
    "One way in which our algorithm uses space is creating new list nodes with the same value as `head` before inserting them at the start of the list. We can try utilizing pointers to existing nodes instead, which is less intuitive, but may help with space efficiency."
   ]
  },
  {
   "cell_type": "code",
   "execution_count": null,
   "metadata": {},
   "outputs": [],
   "source": [
    "class Solution4(object):\n",
    "    def reverseList(self, head):\n",
    "        \"\"\"\n",
    "        :type head: ListNode\n",
    "        :rtype: ListNode\n",
    "        \"\"\"\n",
    "        # Trivial cases\n",
    "        if head == None or head.next == None:\n",
    "            return head\n",
    "        \n",
    "        # Iterative case\n",
    "        else:\n",
    "            reversed = None\n",
    "\n",
    "            while head is not None:\n",
    "                nextHead = head.next\n",
    "\n",
    "                if reversed is None:\n",
    "                    head.next = None\n",
    "                else:\n",
    "                    head.next = reversed\n",
    "\n",
    "                reversed = head\n",
    "                head = nextHead\n",
    "\n",
    "            return reversed"
   ]
  },
  {
   "cell_type": "markdown",
   "metadata": {},
   "source": [
    "This improved memory use significantly, so we can stop at this solution.\n",
    "\n",
    "> **Runtime**\n",
    ">\n",
    "> 14ms\n",
    ">\n",
    "> Beats 85.78% of users with Python\n",
    ">\n",
    "> **Memory**\n",
    ">\n",
    "> 13.64MB\n",
    ">\n",
    "> Beats 48.80% of users with Python\n",
    ">"
   ]
  }
 ],
 "metadata": {
  "kernelspec": {
   "display_name": "Python 3",
   "language": "python",
   "name": "python3"
  },
  "language_info": {
   "codemirror_mode": {
    "name": "ipython",
    "version": 3
   },
   "file_extension": ".py",
   "mimetype": "text/x-python",
   "name": "python",
   "nbconvert_exporter": "python",
   "pygments_lexer": "ipython3",
   "version": "3.10.7"
  }
 },
 "nbformat": 4,
 "nbformat_minor": 2
}
