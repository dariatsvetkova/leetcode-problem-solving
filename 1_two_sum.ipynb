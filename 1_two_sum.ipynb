{
 "cells": [
  {
   "cell_type": "markdown",
   "metadata": {},
   "source": [
    "# 1. Two Sum\n",
    "\n",
    "[link](https://leetcode.com/problems/two-sum/description/)\n",
    "\n",
    "This is a familiar problem to me, but I will still try to go through a brute-force solution and then optimize it, the way I would in a job interview."
   ]
  },
  {
   "cell_type": "markdown",
   "metadata": {},
   "source": [
    "## Understand the task\n",
    "\n",
    "We are given a list of non-unique integers in a non-sorted order. We know that the list contains exactly one pair of numbers that add up to the target number (meaning a solution always exists). Numbers in the list can be any integer within a wide range, including negatives."
   ]
  },
  {
   "cell_type": "markdown",
   "metadata": {},
   "source": [
    "## Brute-force solution\n",
    "\n",
    "A naive solution would be to iterate through the list and, at each iteration, try to sum the current number with all the other numbers in the list and see if we get the target sum. This, of course, would mean that we would be going through the same numbers over and over again, resulting in the time complexity of `O(n^2)`."
   ]
  },
  {
   "cell_type": "code",
   "execution_count": null,
   "metadata": {},
   "outputs": [],
   "source": [
    "class Solution1:\n",
    "    def twoSum(self, nums: List[int], target: int) -> List[int]:\n",
    "        for i in range(0, len(nums)):\n",
    "            numToFind = target - nums[i]\n",
    "\n",
    "            for j in range(0, len(nums)):\n",
    "                if i != j and nums[j] == numToFind:\n",
    "                    return [i, j]"
   ]
  },
  {
   "cell_type": "markdown",
   "metadata": {},
   "source": [
    "One pro of this solution is that its space complexity is `O(n)` because it operates within the existing `nums` list:\n",
    "\n",
    "> **Runtime**\n",
    ">\n",
    "> 2342ms\n",
    ">\n",
    "> Beats 8.40% of users with Python3\n",
    ">\n",
    "> **Memory**\n",
    ">\n",
    "> 17.30MB\n",
    ">\n",
    "> Beats 98.22% of users with Python3\n",
    ">"
   ]
  },
  {
   "cell_type": "markdown",
   "metadata": {},
   "source": [
    "The same outcome could be achieved by using the `List`'s method for finding the index of an element with a given value. (If the value we are looking for is not on the list, it wil raise an exception, which we need to handle.)\n",
    "\n",
    "The benefit of this approach is that we can expect some under-the-hood optimization from the native method. Plus, it has a more readable syntax."
   ]
  },
  {
   "cell_type": "code",
   "execution_count": null,
   "metadata": {},
   "outputs": [],
   "source": [
    "class Solution2:\n",
    "    def twoSum(self, nums: List[int], target: int) -> List[int]:\n",
    "        for i in range(0, len(nums)):\n",
    "            numToFind = target - nums[i]\n",
    "            try:\n",
    "              j = nums.index(numToFind)\n",
    "              if i != j:\n",
    "                return [i, j]\n",
    "            except ValueError:\n",
    "                continue"
   ]
  },
  {
   "cell_type": "markdown",
   "metadata": {},
   "source": [
    "This solution gives us a gain in runtime and is still efficient in terms of memory:\n",
    "\n",
    "> **Runtime**\n",
    ">\n",
    "> 647ms\n",
    ">\n",
    "> Beats 36.72% of users with Python3\n",
    ">\n",
    "> **Memory**\n",
    ">\n",
    "> 17.32MB\n",
    ">\n",
    "> Beats 84.36% of users with Python3\n"
   ]
  },
  {
   "cell_type": "markdown",
   "metadata": {},
   "source": [
    "## Optimizing for time\n",
    "\n",
    "The first obvious optimization we could implement is looking for the second number only in the remaining part of the list. (Because if the desired number had a lower index than the number we are currently looking at, we would have found the same pair when we were at the first number.) Here is what this would look like in `Solution2`:"
   ]
  },
  {
   "cell_type": "code",
   "execution_count": 3,
   "metadata": {},
   "outputs": [],
   "source": [
    "j = nums.index(numToFind, i + 1)  # we are telling the method to start looking from index i + 1, instead of the default 0 used previously"
   ]
  },
  {
   "cell_type": "markdown",
   "metadata": {},
   "source": [
    "However, in big-O notation, this would still have the complexity of `n^2`, so it doesn't solve our problem."
   ]
  },
  {
   "cell_type": "markdown",
   "metadata": {},
   "source": [
    "Another approach we could try is looking in the other direction in relation to the current member of the list. In the previous solutions, we were repeatedly looking at the numbers *after* the current number, which we *haven't seen yet*. Now we can look back at the numbers *before* the current number, which we *already know* exist in the list.\n",
    "\n",
    "To be able to access those numbers in a more time-efficient way, we need to memoize them. In general, we could implement memoization with another list or a hash table. Both would enable us to check if a desired number has been seen in `O(1)`. But given the possible range of inputs, a list where each index corresponds to the same value would take up an enourmous amount of space. So we will go with a hash table, which in Python is implemented as a dictionary."
   ]
  },
  {
   "cell_type": "code",
   "execution_count": null,
   "metadata": {},
   "outputs": [],
   "source": [
    "class Solution3:\n",
    "    def __init__(self):\n",
    "        self.seenNums = dict({})\n",
    "\n",
    "    def twoSum(self, nums: List[int], target: int) -> List[int]:\n",
    "        for i in range(0, len(nums)):\n",
    "            currentNum = nums[i]\n",
    "\n",
    "            numToFind = target - currentNum\n",
    "\n",
    "            if numToFind in self.seenNums:\n",
    "                return [i, self.seenNums[numToFind]]\n",
    "\n",
    "            if not currentNum in self.seenNums:\n",
    "                self.seenNums[currentNum] = i\n"
   ]
  },
  {
   "cell_type": "markdown",
   "metadata": {},
   "source": [
    "This produces a better solution with reasonable time and space usage:\n",
    "\n",
    "> **Runtime**\n",
    ">\n",
    "> 61ms\n",
    ">\n",
    "> Beats 58.36% of users with Python3\n",
    ">\n",
    "> **Memory**\n",
    ">\n",
    "> 17.65MB\n",
    ">\n",
    "> Beats 41.42% of users with Python3\n",
    ">"
   ]
  },
  {
   "cell_type": "markdown",
   "metadata": {},
   "source": [
    "Finally, we can sacrifice readability by getting rid of intermediate variables to claw back some more memory:"
   ]
  },
  {
   "cell_type": "code",
   "execution_count": null,
   "metadata": {},
   "outputs": [],
   "source": [
    "class Solution4:\n",
    "    def __init__(self):\n",
    "        self.seenNums = dict({})\n",
    "\n",
    "    def twoSum(self, nums: List[int], target: int) -> List[int]:\n",
    "        for i in range(0, len(nums)):\n",
    "            if target - nums[i] in self.seenNums:\n",
    "                return [i, self.seenNums[target - nums[i]]]\n",
    "                \n",
    "            if not nums[i] in self.seenNums:\n",
    "                self.seenNums[nums[i]] = i"
   ]
  },
  {
   "cell_type": "markdown",
   "metadata": {},
   "source": [
    "This gives us an above-average time and memory use, so we can use this as the final solution:\n",
    "\n",
    "> **Runtime**\n",
    ">\n",
    "> 62ms\n",
    ">\n",
    "> Beats 55.47% of users with Python3\n",
    ">\n",
    "> **Memory**\n",
    ">\n",
    "> 17.62MB\n",
    ">\n",
    "> Beats 55.91% of users with Python3\n",
    ">"
   ]
  }
 ],
 "metadata": {
  "kernelspec": {
   "display_name": "Python 3",
   "language": "python",
   "name": "python3"
  },
  "language_info": {
   "codemirror_mode": {
    "name": "ipython",
    "version": 3
   },
   "file_extension": ".py",
   "mimetype": "text/x-python",
   "name": "python",
   "nbconvert_exporter": "python",
   "pygments_lexer": "ipython3",
   "version": "3.10.7"
  }
 },
 "nbformat": 4,
 "nbformat_minor": 2
}
